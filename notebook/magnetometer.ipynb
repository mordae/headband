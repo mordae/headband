{
 "cells": [
  {
   "cell_type": "code",
   "execution_count": null,
   "metadata": {},
   "outputs": [],
   "source": [
    "import cufflinks\n",
    "import plotly\n",
    "import plotly.offline\n",
    "import plotly.graph_objs as go\n",
    "import pandas as pd\n",
    "import numpy as np\n",
    "import json\n",
    "\n",
    "cufflinks.go_offline()\n",
    "plotly.offline.init_notebook_mode()"
   ]
  },
  {
   "cell_type": "code",
   "execution_count": null,
   "metadata": {},
   "outputs": [],
   "source": [
    "data = []\n",
    "\n",
    "with open('../mag.log', 'rb') as fp:\n",
    "    for row in fp:\n",
    "        if row.startswith(b'MAG:'):\n",
    "            try: row = json.loads(row[4:].strip())\n",
    "            except: continue\n",
    "            data.append(row)\n",
    "\n",
    "data = np.array(data)"
   ]
  },
  {
   "cell_type": "code",
   "execution_count": null,
   "metadata": {},
   "outputs": [],
   "source": [
    "# Alias the columns for easier manipulation\n",
    "xs = data[:, 0].copy()\n",
    "ys = data[:, 1].copy()\n",
    "zs = data[:, 2].copy()\n",
    "\n",
    "means = np.array([np.mean(xs), np.mean(ys), np.mean(zs)])\n",
    "\n",
    "# Center the data\n",
    "xs -= np.mean(xs)\n",
    "ys -= np.mean(ys)\n",
    "zs -= np.mean(zs)\n",
    "\n",
    "# Find scaling factors\n",
    "med = np.array([[-np.mean(xs[xs < 0]), np.mean(xs[xs > 0])],\n",
    "                [-np.mean(ys[ys < 0]), np.mean(ys[ys > 0])],\n",
    "                [-np.mean(zs[zs < 0]), np.mean(zs[zs > 0])]])\n",
    "\n",
    "avgrad = np.mean(med)\n",
    "\n",
    "# Rescale the data\n",
    "ratios = np.array([[avgrad / med[0][0], avgrad / med[1][0], avgrad / med[2][0]],\n",
    "                   [avgrad / med[0][1], avgrad / med[1][1], avgrad / med[2][1]]])\n",
    "\n",
    "print(np.round(means, 2))\n",
    "print(np.round(ratios, 2))"
   ]
  },
  {
   "cell_type": "code",
   "execution_count": null,
   "metadata": {},
   "outputs": [],
   "source": [
    "df3d = pd.DataFrame(data, columns=['x', 'y', 'z'])"
   ]
  },
  {
   "cell_type": "code",
   "execution_count": null,
   "metadata": {},
   "outputs": [],
   "source": [
    "df3d.iplot(kind='scatter3d', x='x', y='y', z='z')"
   ]
  },
  {
   "cell_type": "code",
   "execution_count": null,
   "metadata": {},
   "outputs": [],
   "source": [
    "df3d.iplot(kind='scatter', x='x', y='y', mode='markers')"
   ]
  },
  {
   "cell_type": "code",
   "execution_count": null,
   "metadata": {},
   "outputs": [],
   "source": [
    "df3d.iplot(kind='scatter', x='y', y='z', mode='markers')"
   ]
  },
  {
   "cell_type": "code",
   "execution_count": null,
   "metadata": {},
   "outputs": [],
   "source": [
    "df3d.iplot(kind='scatter', x='z', y='x', mode='markers')"
   ]
  }
 ],
 "metadata": {
  "kernelspec": {
   "display_name": "Python 3",
   "language": "python",
   "name": "python3"
  },
  "language_info": {
   "codemirror_mode": {
    "name": "ipython",
    "version": 3
   },
   "file_extension": ".py",
   "mimetype": "text/x-python",
   "name": "python",
   "nbconvert_exporter": "python",
   "pygments_lexer": "ipython3",
   "version": "3.7.7"
  }
 },
 "nbformat": 4,
 "nbformat_minor": 2
}
